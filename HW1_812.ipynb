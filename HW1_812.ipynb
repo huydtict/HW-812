{
  "nbformat": 4,
  "nbformat_minor": 0,
  "metadata": {
    "colab": {
      "name": "HW1-812",
      "provenance": [],
      "collapsed_sections": []
    },
    "kernelspec": {
      "name": "python3",
      "display_name": "Python 3"
    }
  },
  "cells": [
    {
      "cell_type": "code",
      "metadata": {
        "id": "wbMs_A1ITx_A",
        "colab_type": "code",
        "outputId": "41f79c45-316b-45d2-f4d2-b16a33b622b7",
        "colab": {
          "base_uri": "https://localhost:8080/",
          "height": 67
        }
      },
      "source": [
        "hours = float(input(\"hours = \"))\n",
        "rate = float(input(\"rate = \"))\n",
        "if hours <= 40:\n",
        "  x = hours * rate\n",
        "  print(\"totalwage = \", x)\n",
        "else:\n",
        "  x = (40 * rate) + ((hours-40)*(1.5*rate))\n",
        "  print(\"totalwage = \", x)"
      ],
      "execution_count": 0,
      "outputs": [
        {
          "output_type": "stream",
          "text": [
            "hours = 45\n",
            "rate = 1\n",
            "totalwage =  47.5\n"
          ],
          "name": "stdout"
        }
      ]
    },
    {
      "cell_type": "code",
      "metadata": {
        "id": "wqfqaXJWDoHa",
        "colab_type": "code",
        "outputId": "e41bb77b-4618-4706-fc25-c4cc47200c50",
        "colab": {
          "base_uri": "https://localhost:8080/",
          "height": 50
        }
      },
      "source": [
        "quizscore = float(input(\"quizscore = \"))\n",
        "if quizscore == 5:\n",
        "  print(\"Grade A\")\n",
        "else:\n",
        "    if quizscore == 4:\n",
        "      print(\"Grade B\")\n",
        "    else:\n",
        "      if quizscore == 3:\n",
        "        print(\"Grade C\")\n",
        "      else:\n",
        "        if quizscore == 2:\n",
        "          print(\"Grade D\")\n",
        "        else:\n",
        "          if quizscore == 1:\n",
        "            print(\"Grade F\")\n",
        "          else:\n",
        "            if quizscore == 0:\n",
        "              print(\"Grade F\")\n",
        "            else:\n",
        "              print(\"No Grade\")\n"
      ],
      "execution_count": 0,
      "outputs": [
        {
          "output_type": "stream",
          "text": [
            "quizscore = 3\n",
            "Grade C\n"
          ],
          "name": "stdout"
        }
      ]
    },
    {
      "cell_type": "code",
      "metadata": {
        "id": "At2n8yEaUE2H",
        "colab_type": "code",
        "outputId": "765b7685-8be7-4ae6-bcbc-89a81b54a05f",
        "colab": {
          "base_uri": "https://localhost:8080/",
          "height": 50
        }
      },
      "source": [
        "x = float(input(\"examscore = \"))\n",
        "if 100 >= x >= 90:\n",
        "  print(\"Grade A\")\n",
        "else:\n",
        "    if 89 >= x >= 80:\n",
        "      print(\"Grade B\")\n",
        "    else:\n",
        "      if 79 >= x >= 70:\n",
        "        print(\"Grade C\")\n",
        "      else:\n",
        "        if 69 >= x >= 60:\n",
        "          print(\"Grade D\")\n",
        "        else:\n",
        "          print(\"Grade F\")\n",
        "       "
      ],
      "execution_count": 47,
      "outputs": [
        {
          "output_type": "stream",
          "text": [
            "examscore = 85\n",
            "Grade B\n"
          ],
          "name": "stdout"
        }
      ]
    },
    {
      "cell_type": "code",
      "metadata": {
        "id": "zW0VPopbOFE9",
        "colab_type": "code",
        "outputId": "02cdf865-4672-423c-803f-64460c7d1fd8",
        "colab": {
          "base_uri": "https://localhost:8080/",
          "height": 50
        }
      },
      "source": [
        "x = float(input(\"Credits = \"))\n",
        "if x <7:\n",
        "  print(\"Freshman\")\n",
        "else:\n",
        "    if 16 > x >= 7:\n",
        "      print(\"Sophomore\")\n",
        "    else:\n",
        "      if 26 > x >= 16:\n",
        "        print(\"Junior\")\n",
        "      else:\n",
        "          print(\"Senior\")"
      ],
      "execution_count": 0,
      "outputs": [
        {
          "output_type": "stream",
          "text": [
            "Credits = 25\n",
            "Junior\n"
          ],
          "name": "stdout"
        }
      ]
    },
    {
      "cell_type": "code",
      "metadata": {
        "id": "CNxu-OrXPKn8",
        "colab_type": "code",
        "outputId": "afeb90fe-4082-4760-8c52-7c5412b76c70",
        "colab": {
          "base_uri": "https://localhost:8080/",
          "height": 67
        }
      },
      "source": [
        "x = float(input(\"weight = \"))\n",
        "y = float(input(\"height = \"))\n",
        "z = x*720 / pow(y,2)\n",
        "if z > 25:\n",
        "  print(\"Above the healthy range\")\n",
        "else:\n",
        "    if 19 > z >= 25:\n",
        "      print(\"Healthy\")\n",
        "    else:\n",
        "      print(\"Below the healthy range\")"
      ],
      "execution_count": 0,
      "outputs": [
        {
          "output_type": "stream",
          "text": [
            "weight = 135\n",
            "height = 70\n",
            "Below the healthy range\n"
          ],
          "name": "stdout"
        }
      ]
    },
    {
      "cell_type": "code",
      "metadata": {
        "id": "RZSN6SmrT2_F",
        "colab_type": "code",
        "outputId": "41a1e01d-ddc7-450a-8595-811322987d23",
        "colab": {
          "base_uri": "https://localhost:8080/",
          "height": 67
        }
      },
      "source": [
        "x = float(input(\"speed = \"))\n",
        "y = float(input(\"limitspeed = \"))\n",
        "if x >= y :\n",
        "  if x >= 90 :\n",
        "    c = 200 + (x-y)*5\n",
        "    print(\"Your ticket fine is = \", c)\n",
        "  else: \n",
        "    c = 50 + (x-y)*5\n",
        "    print(\"Your ticket fine is = \", c)\n",
        "else:\n",
        "  print(\"No fine\")"
      ],
      "execution_count": 0,
      "outputs": [
        {
          "output_type": "stream",
          "text": [
            "speed = 80\n",
            "limitspeed = 95\n",
            "No fine\n"
          ],
          "name": "stdout"
        }
      ]
    },
    {
      "cell_type": "code",
      "metadata": {
        "id": "K-Lyc6ugdS4M",
        "colab_type": "code",
        "outputId": "da2ec24b-188a-46ff-886b-ed22c2522e5c",
        "colab": {
          "base_uri": "https://localhost:8080/",
          "height": 128
        }
      },
      "source": [
        "a = float(input(\"starting hours = \"))\n",
        "b = float(input(\"starting minutes = \"))\n",
        "c = a*60 + b\n",
        "x = float(input(\"starting hours = \"))\n",
        "y = float(input(\"starting minutes = \"))\n",
        "z = x*60 + y\n",
        "t = z - c\n",
        "if t =< 1260 :\n",
        "  p = t*2.5\n",
        "  print(\"Your total babysitting bill is = $\", p)\n",
        "else:\n",
        "  p = 1260*2.5 + (t-1260)*1.75\n",
        "  print(\"Your total babysitting bill is = $\", p)"
      ],
      "execution_count": 0,
      "outputs": [
        {
          "output_type": "error",
          "ename": "SyntaxError",
          "evalue": "ignored",
          "traceback": [
            "\u001b[0;36m  File \u001b[0;32m\"<ipython-input-45-1c4902d3667d>\"\u001b[0;36m, line \u001b[0;32m8\u001b[0m\n\u001b[0;31m    if t =< 1260 :\u001b[0m\n\u001b[0m         ^\u001b[0m\n\u001b[0;31mSyntaxError\u001b[0m\u001b[0;31m:\u001b[0m invalid syntax\n"
          ]
        }
      ]
    }
  ]
}